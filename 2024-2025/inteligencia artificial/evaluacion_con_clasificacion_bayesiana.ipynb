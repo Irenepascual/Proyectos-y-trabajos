{
  "nbformat": 4,
  "nbformat_minor": 0,
  "metadata": {
    "colab": {
      "provenance": []
    },
    "kernelspec": {
      "name": "python3",
      "display_name": "Python 3"
    },
    "language_info": {
      "name": "python"
    }
  },
  "cells": [
    {
      "cell_type": "markdown",
      "metadata": {
        "id": "lHs7ywqw20Jr"
      },
      "source": [
        "# Práctica 4 - Filtrado de Spam usando Bayes Ingenuo\n",
        "\n",
        "Guarda una copia de este cuaderno en tu Google Drive para poder editarla y ejecutarla.\n",
        "\n",
        "El propio cuaderno será tu informe de la práctica. Puedes añadir tantas secciones de código y de texto como consideres necesario para resolver todos los ejercicios propuestos y analizar los resultados obtenidos. Una vez hayas terminado, descarga el notebook en formato ipynb y súbelo a Moodle en la tarea habilitada para la P4 con el nombre NIP_P4.ipynb\n",
        "\n",
        "La evaluación de la práctica se realizará mediante una entrevista durante el desarrollo de la práctica 5 en la que se deberá mostrar el funcionamiento del cuaderno de Colab y resolver a preguntas relacionadas con su contenido. Evaluación: funcionamiento de colab 50%. Respuesta a las preguntas 50% de la nota."
      ]
    },
    {
      "cell_type": "markdown",
      "metadata": {
        "id": "E0VmxZqbSZkh"
      },
      "source": [
        "Imports necesarios para ejecutar la práctica"
      ]
    },
    {
      "cell_type": "code",
      "metadata": {
        "id": "5eMdo6XcI-8G"
      },
      "source": [
        "import numpy as np\n",
        "import json\n",
        "import glob\n",
        "import matplotlib.pyplot as plt\n",
        "from sklearn.feature_extraction.text import CountVectorizer\n",
        "from sklearn.feature_extraction.text import TfidfTransformer\n",
        "from sklearn.naive_bayes import MultinomialNB\n",
        "from sklearn.naive_bayes import BernoulliNB\n",
        "from sklearn.utils import shuffle\n",
        "from sklearn import metrics\n",
        "from sklearn.model_selection import KFold\n",
        "from sklearn.model_selection import train_test_split"
      ],
      "execution_count": 1,
      "outputs": []
    },
    {
      "cell_type": "markdown",
      "metadata": {
        "id": "vaaAoKT8Sdoi"
      },
      "source": [
        "Carga del fichero ZIP con todos los correos"
      ]
    },
    {
      "cell_type": "code",
      "metadata": {
        "id": "Ju6jVmIFGdaE",
        "outputId": "5b39e4f6-58ca-4626-eee6-7a148913c506",
        "colab": {
          "base_uri": "https://localhost:8080/"
        }
      },
      "source": [
        "!gdown 1hYha8kSpbAhGIHAfygLFmGHIzHGAK5f8\n",
        "!unzip -q \"enron.zip\""
      ],
      "execution_count": 2,
      "outputs": [
        {
          "output_type": "stream",
          "name": "stdout",
          "text": [
            "Downloading...\n",
            "From (original): https://drive.google.com/uc?id=1hYha8kSpbAhGIHAfygLFmGHIzHGAK5f8\n",
            "From (redirected): https://drive.google.com/uc?id=1hYha8kSpbAhGIHAfygLFmGHIzHGAK5f8&confirm=t&uuid=5841c1ec-5d8f-43ac-a0cd-611ffe17cffc\n",
            "To: /content/enron.zip\n",
            "100% 28.9M/28.9M [00:00<00:00, 99.0MB/s]\n"
          ]
        }
      ]
    },
    {
      "cell_type": "markdown",
      "metadata": {
        "id": "j2uujVbYSO9x"
      },
      "source": [
        "Lectura de los emails y carga en las estructuras de datos"
      ]
    },
    {
      "cell_type": "code",
      "metadata": {
        "id": "ti5yXHPpOpAr",
        "colab": {
          "base_uri": "https://localhost:8080/"
        },
        "outputId": "09f7ad30-e351-4018-ef4e-4529b84999b0"
      },
      "source": [
        "def read_folder(folder):\n",
        "    mails = []\n",
        "    file_list = glob.glob(folder)  # Listar archivos en la carpeta\n",
        "    num_files = len(file_list)\n",
        "    for i in range(0, num_files):\n",
        "        i_path = file_list[i]\n",
        "        i_file = open(i_path, 'rb')\n",
        "        i_str = i_file.read()\n",
        "        i_text = i_str.decode('utf-8', errors='ignore')  # Convert to Unicode\n",
        "        mails.append(i_text)  # Append to the mail structure\n",
        "        i_file.close()\n",
        "    return mails\n",
        "\n",
        "def load_enron_folders(datasets):\n",
        "    path = './'\n",
        "    ham = []  # correos ham\n",
        "    spam = [] # correos spam\n",
        "    for j in datasets:\n",
        "        ham  = ham  + read_folder(path + '/enron' + str(j) + '/ham/*.txt')\n",
        "        spam = spam + read_folder(path + '/enron' + str(j) + '/spam/*.txt')\n",
        "    num_ham  = len(ham)\n",
        "    num_spam = len(spam)\n",
        "    print(\"mails:\", num_ham+num_spam)\n",
        "    print(\"ham  :\", num_ham)\n",
        "    print(\"spam :\", num_spam)\n",
        "\n",
        "    mails = ham + spam\n",
        "    labels = [0]*num_ham + [1]*num_spam\n",
        "    mails, labels = shuffle(mails, labels, random_state=0)  # Mezclar datos aleatoriamente\n",
        "    return mails, labels\n",
        "\n",
        "print(\"Loading files...\")\n",
        "\n",
        "print(\"------Loading train and validation data--------\")\n",
        "mails, y = load_enron_folders([1,2,3,4,5])\n",
        "\n",
        "# Divide en 80% para entrenamiento y 20% para validación.\n",
        "mails_train, mails_val, y_train, y_val = train_test_split(mails, y, train_size = 0.8)\n",
        "\n",
        "print(\"--------------Loading test data----------------\")\n",
        "mails_test, y_test = load_enron_folders([6])"
      ],
      "execution_count": 3,
      "outputs": [
        {
          "output_type": "stream",
          "name": "stdout",
          "text": [
            "Loading files...\n",
            "------Loading train and validation data--------\n",
            "mails: 27716\n",
            "ham  : 15045\n",
            "spam : 12671\n",
            "--------------Loading test data----------------\n",
            "mails: 6000\n",
            "ham  : 1500\n",
            "spam : 4500\n"
          ]
        }
      ]
    },
    {
      "cell_type": "markdown",
      "metadata": {
        "id": "0-a8BMyQS13B"
      },
      "source": [
        "Código para generar una bolsa de palabras que cuenta el número de apariciones de cada palabra en la lista de correos\n",
        "\n",
        "Crea una matriz X con tantas filas como correos (27716) y tantas columnas como palabras de la BD. El elemento (i,j) de la matriz contiene el número de ocurrencias de la palabra j en el correo i"
      ]
    },
    {
      "cell_type": "markdown",
      "source": [
        "BERNOULLI, UNIGRAMAS:"
      ],
      "metadata": {
        "id": "15ltnBoTdY7h"
      }
    },
    {
      "cell_type": "code",
      "metadata": {
        "id": "O8Fz7j4iBRh0"
      },
      "source": [
        "porcentajeTotal = 0.0\n",
        "alphaFinal = 0.0\n",
        "mejorAlphaLocal = 0.0\n",
        "mejorPorcentajeLocal =0.0\n",
        "\n",
        "# Crea un vectorizador para convertir texto a características numéricas como unigramas\n",
        "vectorizer = CountVectorizer(ngram_range=(1, 1))\n",
        "\n",
        "# Fit se encarga de crear el vocabulario con todas las palabras únicas presentes en los datos de entrada\n",
        "# Transform se encarga de transformar los datos de entrada en un vector (numérico, para que el modelo pueda entender)\n",
        "X = vectorizer.fit_transform(mails_train)\n",
        "\n",
        "# Transform se encarga de transformar los datos previamente aprendidos en un vector con el mismo vocabulario\n",
        "X_val = vectorizer.transform(mails_val)\n",
        "\n",
        "# Bucle para comprobar el alpha desde 0.1 hasta 1.0, yendo de 0.01 en 0.01 para obtener el mejor\n",
        "for i in np.arange(0.1,1.0,0.01):\n",
        "  # Se crea un clasificador Bayesiano Ingenuo con distribución de Bernoulli y el valor actual alpha\n",
        "  classifier = BernoulliNB(alpha=i, fit_prior=True, class_prior=None)\n",
        "\n",
        "  # Entrena el modelo con los datos de entrenamiento\n",
        "  classifier.fit(X,y_train)\n",
        "\n",
        "  # Predice etiquetas para los datos de validación\n",
        "  y_pred = classifier.predict(X_val)\n",
        "\n",
        "  # Calcula el F1-score (métrica de evaluación) para las predicciones\n",
        "  f1_score=metrics.f1_score(y_val, y_pred)\n",
        "\n",
        "  porcentaje = 100*f1_score\n",
        "  #print(f\"Porcentaje: {porcentaje:.2f}%\", end=\" \\n\")\n",
        "\n",
        "  if (porcentaje > porcentajeTotal):\n",
        "      opcion_elegida=\"Bernoulli con unigrama\"\n",
        "      alphaFinal = i\n",
        "\n",
        "  if (porcentaje > mejorPorcentajeLocal):\n",
        "    mejorPorcentajeLocal = porcentaje\n",
        "    mejorAlphaLocal = i\n",
        "    if (mejorPorcentajeLocal > porcentajeTotal):\n",
        "        porcentajeTotal = mejorPorcentajeLocal\n",
        "        opcion_elegida=\"Bernoulli con unigrama\"\n",
        "        alphaFinal = i"
      ],
      "execution_count": 4,
      "outputs": []
    },
    {
      "cell_type": "markdown",
      "source": [
        "Con el alpha más adecuado:"
      ],
      "metadata": {
        "id": "pKBcMkrOh2Ys"
      }
    },
    {
      "cell_type": "code",
      "source": [
        "print(\"BERNOUILLI CON UNIGRAMAS\\n\")\n",
        "print(f\"El alpha utilizado es: {mejorAlphaLocal:.4f}\", end=\" \\n\")\n",
        "\n",
        "# Repito el anterior con su mejor alpha y lo muestro\n",
        "\n",
        "classifier = BernoulliNB(alpha=mejorAlphaLocal, fit_prior=True, class_prior=None) # Instancia de clasificador de Bayes Ingenuo con distribución de Bernoulli\n",
        "classifier.fit(X,y_train) # Cálculo de las probabilidades asociadas a cada palabra de la bolsa\n",
        "\n",
        "y_pred = classifier.predict(X_val)\n",
        "f1_score=metrics.f1_score(y_val, y_pred)\n",
        "print(f\"F1-score of the test: {100*f1_score:2.2f}%\")\n",
        "C=metrics.confusion_matrix(y_val, y_pred)\n",
        "print(\"Confusion Matrix:\")\n",
        "print(C)\n",
        "metrics.PrecisionRecallDisplay.from_estimator(classifier, X_val, y_val)"
      ],
      "metadata": {
        "colab": {
          "base_uri": "https://localhost:8080/",
          "height": 590
        },
        "id": "zD8VzlEOhSc_",
        "outputId": "6cb39648-09a0-45d0-b0ee-89891a8c07bf"
      },
      "execution_count": 5,
      "outputs": [
        {
          "output_type": "stream",
          "name": "stdout",
          "text": [
            "BERNOUILLI CON UNIGRAMAS\n",
            "\n",
            "El alpha utilizado es: 0.1000 \n",
            "F1-score of the test: 98.55%\n",
            "Confusion Matrix:\n",
            "[[2955   60]\n",
            " [  14 2515]]\n"
          ]
        },
        {
          "output_type": "execute_result",
          "data": {
            "text/plain": [
              "<sklearn.metrics._plot.precision_recall_curve.PrecisionRecallDisplay at 0x7ef4932f8490>"
            ]
          },
          "metadata": {},
          "execution_count": 5
        },
        {
          "output_type": "display_data",
          "data": {
            "text/plain": [
              "<Figure size 640x480 with 1 Axes>"
            ],
            "image/png": "[encoded data removed]"
          },
          "metadata": {}
        }
      ]
    },
    {
      "cell_type": "markdown",
      "source": [
        "MULTINOMIAL, UNIGRAMA:"
      ],
      "metadata": {
        "id": "fhAc8r1XnMBn"
      }
    },
    {
      "cell_type": "code",
      "source": [
        "# Crea un vectorizador para convertir texto a características numéricas como unigramas\n",
        "vectorizer = CountVectorizer(ngram_range=(1, 1))\n",
        "\n",
        "# Fit se encarga de crear el vocabulario con todas las palabras únicas presentes en los datos de entrada\n",
        "# Transform se encarga de transformar los datos de entrada en un vector (numérico, para que el modelo pueda entender)\n",
        "X = vectorizer.fit_transform(mails_train)\n",
        "\n",
        "# Transform se encarga de transformar los datos previamente aprendidos en un vector con el mismo vocabulario\n",
        "X_val = vectorizer.transform(mails_val)\n",
        "\n",
        "porcentajeFin = 0.0\n",
        "mejorPorcentajeLocal = 0.0\n",
        "mejorAlphaLocal = 0.0\n",
        "\n",
        "# Bucle para comprobar el alpha desde 0.1 hasta 1.0, yendo de 0.01 en 0.01 para obtener el mejor\n",
        "for i in np.arange(0.1,1.0,0.01):\n",
        "  # Se crea un clasificador Bayesiano Ingenuo con distribución de Multinomial y el valor actual alpha\n",
        "  classifier = MultinomialNB(alpha=i, fit_prior=True, class_prior=None)\n",
        "\n",
        "  # Entrena el modelo con los datos de entrenamiento\n",
        "  classifier.fit(X,y_train)\n",
        "\n",
        "  # Predice etiquetas para los datos de validación\n",
        "  y_pred = classifier.predict(X_val)\n",
        "\n",
        "  # Calcula el F1-score (métrica de evaluación) para las predicciones\n",
        "  f1_score=metrics.f1_score(y_val, y_pred)\n",
        "\n",
        "  porcentaje = 100*f1_score\n",
        "  #print(f\"Porcentaje: {porcentaje:.2f}%\", end=\" \\n\")\n",
        "\n",
        "  if (porcentaje > mejorPorcentajeLocal):\n",
        "    mejorPorcentajeLocal = porcentaje\n",
        "    mejorAlphaLocal = i\n",
        "    if (mejorPorcentajeLocal > porcentajeTotal):\n",
        "        porcentajeTotal = mejorPorcentajeLocal\n",
        "        opcion_elegida=\"Multinomial con unigrama\"\n",
        "        alphaFinal = i"
      ],
      "metadata": {
        "id": "QIy6yaNynIMh"
      },
      "execution_count": 6,
      "outputs": []
    },
    {
      "cell_type": "code",
      "source": [
        "print(\"MULTINOMIAL CON UNIGRAMAS\\n\")\n",
        "print(f\"El alpha utilizado es: {mejorAlphaLocal:.4f}\", end=\" \\n\")\n",
        "\n",
        "# Repito el anterior con su mejor alpha y lo muestro\n",
        "\n",
        "classifier = MultinomialNB(alpha=mejorAlphaLocal, fit_prior=True, class_prior=None) # Instancia de clasificador de Bayes Ingenuo con distribución de Bernoulli\n",
        "classifier.fit(X,y_train) # Cálculo de las probabilidades asociadas a cada palabra de la bolsa\n",
        "\n",
        "y_pred = classifier.predict(X_val)\n",
        "f1_score=metrics.f1_score(y_val, y_pred)\n",
        "\n",
        "# Imprime el F1-score en porcentaje con dos decimales para mayor legibilidad.\n",
        "print(f\"F1-score of the test: {100*f1_score:2.2f}%\")\n",
        "\n",
        "# Calcula la matriz de confusión para las predicciones en el conjunto de validación.\n",
        "# La matriz de confusión muestra:\n",
        "# - True Positives (Spam correctamente clasificado).\n",
        "# - True Negatives (Ham correctamente clasificado).\n",
        "# - False Positives (Ham clasificado como Spam).\n",
        "# - False Negatives (Spam clasificado como Ham).\n",
        "C=metrics.confusion_matrix(y_val, y_pred)\n",
        "print(\"Confusion Matrix:\")\n",
        "print(C)\n",
        "\n",
        "# Genera y muestra una curva precisión-recall basada en el clasificador, utilizando X_val e y_val.\n",
        "# Esta curva permite evaluar el rendimiento del modelo al variar el umbral de decisión.\n",
        "metrics.PrecisionRecallDisplay.from_estimator(classifier, X_val, y_val)"
      ],
      "metadata": {
        "colab": {
          "base_uri": "https://localhost:8080/",
          "height": 590
        },
        "id": "3h7OjDYBndEu",
        "outputId": "6d4121cf-84e1-40aa-da14-3a556a34c72d"
      },
      "execution_count": 7,
      "outputs": [
        {
          "output_type": "stream",
          "name": "stdout",
          "text": [
            "MULTINOMIAL CON UNIGRAMAS\n",
            "\n",
            "El alpha utilizado es: 0.1000 \n",
            "F1-score of the test: 98.54%\n",
            "Confusion Matrix:\n",
            "[[2970   45]\n",
            " [  29 2500]]\n"
          ]
        },
        {
          "output_type": "execute_result",
          "data": {
            "text/plain": [
              "<sklearn.metrics._plot.precision_recall_curve.PrecisionRecallDisplay at 0x7ef4932f8850>"
            ]
          },
          "metadata": {},
          "execution_count": 7
        },
        {
          "output_type": "display_data",
          "data": {
            "text/plain": [
              "<Figure size 640x480 with 1 Axes>"
            ],
            "image/png": "[encoded data removed]"
          },
          "metadata": {}
        }
      ]
    },
    {
      "cell_type": "markdown",
      "source": [
        "BERNOULLI, BIGRAMAS:"
      ],
      "metadata": {
        "id": "nBpbHIGhddd5"
      }
    },
    {
      "cell_type": "code",
      "source": [
        "# Crea un vectorizador para convertir texto a características numéricas como bigramas\n",
        "vectorizer = CountVectorizer(ngram_range=(2, 2))\n",
        "\n",
        "# Fit se encarga de crear el vocabulario con todas las palabras únicas presentes en los datos de entrada\n",
        "# Transform se encarga de transformar los datos de entrada en un vector (numérico, para que el modelo pueda entender)\n",
        "X = vectorizer.fit_transform(mails_train)\n",
        "\n",
        "# Transform se encarga de transformar los datos previamente aprendidos en un vector con el mismo vocabulario\n",
        "X_val = vectorizer.transform(mails_val)\n",
        "\n",
        "porcentajeFin = 0.0\n",
        "mejorPorcentajeLocal = 0.0\n",
        "mejorAlphaLocal = 0.0\n",
        "\n",
        "# Bucle para comprobar el alpha desde 0.1 hasta 1.0, yendo de 0.01 en 0.01 para obtener el mejor\n",
        "for i in np.arange(0.1,1.0,0.01):\n",
        "  # Se crea un clasificador Bayesiano Ingenuo con distribución de Bernoulli y el valor actual alpha\n",
        "  classifier = BernoulliNB(alpha=i, fit_prior=True, class_prior=None) # Instancia de clasificador de Bayes Ingenuo con distribución de Bernoulli\n",
        "\n",
        "  # Entrena el modelo con los datos de entrenamiento\n",
        "  classifier.fit(X,y_train) # Cálculo de las probabilidades asociadas a cada palabra de la bolsa\n",
        "\n",
        "  # Predice etiquetas para los datos de validación\n",
        "  y_pred = classifier.predict(X_val)\n",
        "\n",
        "  # Calcula el F1-score (métrica de evaluación) para las predicciones\n",
        "  f1_score=metrics.f1_score(y_val, y_pred)\n",
        "\n",
        "  porcentaje = 100*f1_score\n",
        "  #print(f\"Porcentaje: {porcentaje:.2f}%\", end=\" \\n\")\n",
        "\n",
        "  if (porcentaje > mejorPorcentajeLocal):\n",
        "    mejorPorcentajeLocal = porcentaje\n",
        "    mejorAlphaLocal = i\n",
        "    if (mejorPorcentajeLocal > porcentajeTotal):\n",
        "        porcentajeTotal = mejorPorcentajeLocal\n",
        "        opcion_elegida=\"Bernoulli con bigrama\"\n",
        "        alphaFinal = i"
      ],
      "metadata": {
        "id": "Qsjsp2e2dh3W"
      },
      "execution_count": 8,
      "outputs": []
    },
    {
      "cell_type": "markdown",
      "source": [
        "Con el alpha más adecuado:"
      ],
      "metadata": {
        "id": "o1kcnB1FmOH0"
      }
    },
    {
      "cell_type": "code",
      "source": [
        "print(\"BERNOULLI CON BIGRAMAS\\n\")\n",
        "print(f\"El alpha utilizado es: {mejorAlphaLocal:.4f}\", end=\" \\n\")\n",
        "\n",
        "# Repito el anterior con su mejor alpha y lo muestro\n",
        "\n",
        "classifier = BernoulliNB(alpha=mejorAlphaLocal, fit_prior=True, class_prior=None) # Instancia de clasificador de Bayes Ingenuo con distribución de Bernoulli\n",
        "classifier.fit(X,y_train) # Cálculo de las probabilidades asociadas a cada palabra de la bolsa\n",
        "\n",
        "y_pred = classifier.predict(X_val)\n",
        "f1_score=metrics.f1_score(y_val, y_pred)\n",
        "\n",
        "# Imprime el F1-score en porcentaje con dos decimales para mayor legibilidad.\n",
        "print(f\"F1-score of the test: {100*f1_score:2.2f}%\")\n",
        "\n",
        "# Calcula la matriz de confusión para las predicciones en el conjunto de validación.\n",
        "# La matriz de confusión muestra:\n",
        "# - True Positives (Spam correctamente clasificado).\n",
        "# - True Negatives (Ham correctamente clasificado).\n",
        "# - False Positives (Ham clasificado como Spam).\n",
        "# - False Negatives (Spam clasificado como Ham).\n",
        "C=metrics.confusion_matrix(y_val, y_pred)\n",
        "print(\"Confusion Matrix:\")\n",
        "print(C)\n",
        "\n",
        "# Genera y muestra una curva precisión-recall basada en el clasificador, utilizando X_val e y_val.\n",
        "# Esta curva permite evaluar el rendimiento del modelo al variar el umbral de decisión.\n",
        "metrics.PrecisionRecallDisplay.from_estimator(classifier, X_val, y_val)"
      ],
      "metadata": {
        "colab": {
          "base_uri": "https://localhost:8080/",
          "height": 590
        },
        "id": "1-Zbv59Ad_R6",
        "outputId": "ec316f3c-d559-4f1e-c189-c82c9aecf81d"
      },
      "execution_count": 9,
      "outputs": [
        {
          "output_type": "stream",
          "name": "stdout",
          "text": [
            "BERNOULLI CON BIGRAMAS\n",
            "\n",
            "El alpha utilizado es: 0.1000 \n",
            "F1-score of the test: 95.58%\n",
            "Confusion Matrix:\n",
            "[[2793  222]\n",
            " [  11 2518]]\n"
          ]
        },
        {
          "output_type": "execute_result",
          "data": {
            "text/plain": [
              "<sklearn.metrics._plot.precision_recall_curve.PrecisionRecallDisplay at 0x7ef49312b100>"
            ]
          },
          "metadata": {},
          "execution_count": 9
        },
        {
          "output_type": "display_data",
          "data": {
            "text/plain": [
              "<Figure size 640x480 with 1 Axes>"
            ],
            "image/png": "[encoded data removed]"
          },
          "metadata": {}
        }
      ]
    },
    {
      "cell_type": "markdown",
      "source": [
        "MULTINOMIAL, BIGRAMA:"
      ],
      "metadata": {
        "id": "KwdwcrGYnmf0"
      }
    },
    {
      "cell_type": "code",
      "source": [
        "# Crea un vectorizador para convertir texto a características numéricas como bigramas\n",
        "vectorizer = CountVectorizer(ngram_range=(2, 2))\n",
        "\n",
        "# Fit se encarga de crear el vocabulario con todas las palabras únicas presentes en los datos de entrada\n",
        "# Transform se encarga de transformar los datos de entrada en un vector (numérico, para que el modelo pueda entender)\n",
        "X = vectorizer.fit_transform(mails_train)\n",
        "\n",
        "# Transform se encarga de transformar los datos previamente aprendidos en un vector con el mismo vocabulario\n",
        "X_val = vectorizer.transform(mails_val)\n",
        "\n",
        "porcentajeFin = 0.0\n",
        "mejorPorcentajeLocal = 0.0\n",
        "mejorAlphaLocal = 0.0\n",
        "\n",
        "# Bucle para comprobar el alpha desde 0.1 hasta 1.0, yendo de 0.01 en 0.01 para obtener el mejor\n",
        "for i in np.arange(0.1,1.0,0.01):\n",
        "  # Se crea un clasificador Bayesiano Ingenuo con distribución de Multinomial y el valor actual alpha\n",
        "  classifier = MultinomialNB(alpha=i, fit_prior=True, class_prior=None) # Instancia de clasificador de Bayes Ingenuo con distribución de Bernoulli\n",
        "\n",
        "  # Entrena el modelo con los datos de entrenamiento\n",
        "  classifier.fit(X,y_train) # Cálculo de las probabilidades asociadas a cada palabra de la bolsa\n",
        "\n",
        "  # Predice etiquetas para los datos de validación\n",
        "  y_pred = classifier.predict(X_val)\n",
        "\n",
        "  # Calcula el F1-score (métrica de evaluación) para las predicciones\n",
        "  f1_score=metrics.f1_score(y_val, y_val)\n",
        "\n",
        "  porcentaje = 100*f1_score\n",
        "  #print(f\"Porcentaje: {porcentaje:.2f}%\", end=\" \\n\")\n",
        "\n",
        "  if (porcentaje > mejorPorcentajeLocal):\n",
        "    mejorPorcentajeLocal = porcentaje\n",
        "    mejorAlphaLocal = i\n",
        "    if (mejorPorcentajeLocal > porcentajeTotal):\n",
        "        porcentajeTotal = mejorPorcentajeLocal\n",
        "        opcion_elegida=\"Multinomial con bigrama\"\n",
        "        alphaFinal = i\n",
        "\n"
      ],
      "metadata": {
        "id": "1KubJWkOnr7l"
      },
      "execution_count": 10,
      "outputs": []
    },
    {
      "cell_type": "code",
      "source": [
        "print(\"MULTINOMIAL CON BIGRAMAS\\n\")\n",
        "print(f\"El alpha utilizado es: {mejorAlphaLocal:.4f}\", end=\" \\n\")\n",
        "\n",
        "# Repito el anterior con su mejor alpha y lo muestro\n",
        "\n",
        "classifier = MultinomialNB(alpha=mejorAlphaLocal, fit_prior=True, class_prior=None) # Instancia de clasificador de Bayes Ingenuo con distribución de Bernoulli\n",
        "classifier.fit(X,y_train) # Cálculo de las probabilidades asociadas a cada palabra de la bolsa\n",
        "\n",
        "y_pred = classifier.predict(X_val)\n",
        "f1_score=metrics.f1_score(y_val, y_pred)\n",
        "\n",
        "# Imprime el F1-score en porcentaje con dos decimales para mayor legibilidad.\n",
        "print(f\"F1-score of the test: {100*f1_score:2.2f}%\")\n",
        "\n",
        "# Calcula la matriz de confusión para las predicciones en el conjunto de validación.\n",
        "# La matriz de confusión muestra:\n",
        "# - True Positives (Spam correctamente clasificado).\n",
        "# - True Negatives (Ham correctamente clasificado).\n",
        "# - False Positives (Ham clasificado como Spam).\n",
        "# - False Negatives (Spam clasificado como Ham).\n",
        "C=metrics.confusion_matrix(y_val, y_pred)\n",
        "print(\"Confusion Matrix:\")\n",
        "print(C)\n",
        "\n",
        "# Genera y muestra una curva precisión-recall basada en el clasificador, utilizando X_val e y_val.\n",
        "# Esta curva permite evaluar el rendimiento del modelo al variar el umbral de decisión.\n",
        "metrics.PrecisionRecallDisplay.from_estimator(classifier, X_val, y_val)"
      ],
      "metadata": {
        "colab": {
          "base_uri": "https://localhost:8080/",
          "height": 590
        },
        "id": "T5a_DC6Mnrro",
        "outputId": "3a137ee2-dc18-4a02-d607-dabe8b3a82a1"
      },
      "execution_count": 11,
      "outputs": [
        {
          "output_type": "stream",
          "name": "stdout",
          "text": [
            "MULTINOMIAL CON BIGRAMAS\n",
            "\n",
            "El alpha utilizado es: 0.1000 \n",
            "F1-score of the test: 98.62%\n",
            "Confusion Matrix:\n",
            "[[3003   12]\n",
            " [  57 2472]]\n"
          ]
        },
        {
          "output_type": "execute_result",
          "data": {
            "text/plain": [
              "<sklearn.metrics._plot.precision_recall_curve.PrecisionRecallDisplay at 0x7ef48f7971f0>"
            ]
          },
          "metadata": {},
          "execution_count": 11
        },
        {
          "output_type": "display_data",
          "data": {
            "text/plain": [
              "<Figure size 640x480 with 1 Axes>"
            ],
            "image/png": "[encoded data removed]"
          },
          "metadata": {}
        }
      ]
    },
    {
      "cell_type": "code",
      "source": [
        "print(\"La mejor opción es: \")\n",
        "print(opcion_elegida)\n",
        "print(\"El alpha utilizado para esa opción es: \")\n",
        "print(alphaFinal)\n"
      ],
      "metadata": {
        "colab": {
          "base_uri": "https://localhost:8080/"
        },
        "id": "Vz0UP3yytsN0",
        "outputId": "ea269fa1-68c8-4843-c5f7-25f8cc4246f9"
      },
      "execution_count": 12,
      "outputs": [
        {
          "output_type": "stream",
          "name": "stdout",
          "text": [
            "La mejor opción es: \n",
            "Multinomial con bigrama\n",
            "El alpha utilizado para esa opción es: \n",
            "0.1\n"
          ]
        }
      ]
    },
    {
      "cell_type": "markdown",
      "source": [
        "\n",
        "\n",
        "\n",
        "---\n",
        "\n",
        "\n",
        "\n",
        "---\n",
        "\n",
        "\n",
        "---\n",
        "VEMOS QUE LA MEJOR OPCIÓN ES MULTINOMIAL CON BIGRAMA, UTILIZANDO UN ALPHA DE 0.1000\n",
        "\n",
        "\n",
        "---\n",
        "\n",
        "\n",
        "\n",
        "---\n",
        "\n",
        "\n",
        "\n",
        "---\n",
        "\n"
      ],
      "metadata": {
        "id": "bYefK47ypF6h"
      }
    },
    {
      "cell_type": "code",
      "source": [
        "# Evaluación en los datos de test con el mejor modelo\n",
        "if opcion_elegida == \"Multinomial con bigrama\" or opcion_elegida == \"Bernoulli con bigrama\":\n",
        "  vectorizer = CountVectorizer(ngram_range=(2, 2))  # Instancia de bolsa de palabras con palabras individuales como características\n",
        "  X_train = vectorizer.fit_transform(mails_train)               # Generación y cálculo de la bolsa de palabras en base a los datos de entrenamiento\n",
        "  X_test = vectorizer.transform(mails_test)         # Cálculo de la bolsa de palabras con los datos de test\n",
        "\n",
        "elif opcion_elegida == \"Multinomial con unigrama\" or opcion_elegida == \"Bernoulli con unigrama\":\n",
        "  vectorizer = CountVectorizer(ngram_range=(1, 1))  # Instancia de bolsa de palabras con palabras individuales como características\n",
        "  X_train = vectorizer.fit_transform(mails_train)               # Generación y cálculo de la bolsa de palabras en base a los datos de entrenamiento\n",
        "  X_test = vectorizer.transform(mails_test)         # Cálculo de la bolsa de palabras con los datos de test\n",
        "\n",
        "if opcion_elegida == \"Multinomial con bigrama\" or opcion_elegida == \"Multinomial con unigrama\":\n",
        "  classifier = MultinomialNB(alpha=alphaFinal, fit_prior=True, class_prior=None) # Instancia de clasificador de Bayes Ingenuo con distribución de Multinomial\n",
        "  classifier.fit(X_train,y_train) # Cálculo de las probabilidades asociadas a cada palabra de la bolsa\n",
        "\n",
        "elif opcion_elegida == \"Bernoulli con bigrama\" or opcion_elegida == \"Bernoulli con unigrama\":\n",
        "  classifier = BernoulliNB(alpha=alphaFinal, fit_prior=True, class_prior=None) # Instancia de clasificador de Bayes Ingenuo con distribución de Bernoulli\n",
        "  classifier.fit(X_train,y_train) # Cálculo de las probabilidades asociadas a cada palabra de la bolsa\n",
        "\n",
        "y_test_pred = classifier.predict(X_test)\n",
        "f1_score_test=metrics.f1_score(y_test, y_test_pred)\n",
        "precision_test = metrics.precision_score(y_test, y_test_pred)\n",
        "recall_test = metrics.recall_score(y_test, y_test_pred)\n",
        "\n",
        "# Mostrar las métricas finales\n",
        "print(f\"Evaluación en los datos de test:\")\n",
        "print(f\"- F1-score: {f1_score_test:.2f}\")\n",
        "print(f\"- Precisión: {precision_test:.2f}\")\n",
        "print(f\"- Recall: {recall_test:.2f}\")\n",
        "\n",
        "# Matriz de confusión en test\n",
        "C_test = metrics.confusion_matrix(y_test, y_test_pred)\n",
        "print(\"Matriz de Confusión en Test:\")\n",
        "print(C_test)\n",
        "\n",
        "# Curva precisión-recall para los datos de test:\n",
        "\n",
        "# Calcula las probabilidades para cada correo en los datos de test.\n",
        "# predict_proba devuelve una matriz donde cada fila representa un correo y tiene dos columnas:\n",
        "#   columna 0: probabilidad de que el correo sea ham\n",
        "#   columna 1: probabilidad de que el correo sea spam\n",
        "# Aquí seleccionamos la columna 1 porque nos interesa la probabilidad de que cada correo sea spam\n",
        "probabilidades_test = classifier.predict_proba(X_test)[:, 1]\n",
        "\n",
        "# Genera los valores de precisión, recall y los umbrales, a partir de las probabilidades que hemos predicho anteriormente\n",
        "#   precision: lista con la precisión para diferentes valores de umbral\n",
        "#   recall: lista con el recall para diferentes valores de umbral\n",
        "#   umbral: lista de umbrales probados\n",
        "# La curva precisión-recall muestra cómo cambian precisión y recall según el umbral.\n",
        "precision, recall, umbral = metrics.precision_recall_curve(y_test, probabilidades_test)\n",
        "\n",
        "# Encuentra el índice del umbral (np.argmax) que maximiza el balance entre recall y precisión\n",
        "optimo_id = np.argmax(recall - (1 - precision))\n",
        "\n",
        "# Guardamos el umbral óptimo\n",
        "umbral_optimo = umbral[optimo_id]\n",
        "\n",
        "print(f\"Umbral óptimo para clasificación de spam: {umbral_optimo:.3f}\")\n",
        "\n",
        "# Graficar la curva Precision-Recall, y muestra cómo varía precisión (en el eje Y), y el\n",
        "# recall (en el eje X), a medida que se ajusta el umbral\n",
        "plt.plot(recall, precision, label=\"Curva Precision-Recall\", color=\"blue\")\n",
        "\n",
        "# Punto rojo de umbral óptimo\n",
        "plt.scatter(recall[optimo_id], precision[optimo_id], color=\"red\", label=f\"Umbral óptimo: {umbral_optimo:.3f}\")\n",
        "plt.xlabel(\"Recall\")\n",
        "plt.ylabel(\"Precision\")\n",
        "plt.title(\"Curva Precision-Recall\")\n",
        "plt.legend()\n",
        "plt.grid(True)\n",
        "plt.show()\n"
      ],
      "metadata": {
        "id": "2ypmfx7Ppcza",
        "colab": {
          "base_uri": "https://localhost:8080/",
          "height": 611
        },
        "outputId": "d52aa600-80ea-4e51-dcc1-5777cc7a2ff1"
      },
      "execution_count": 13,
      "outputs": [
        {
          "output_type": "stream",
          "name": "stdout",
          "text": [
            "Evaluación en los datos de test:\n",
            "- F1-score: 0.98\n",
            "- Precisión: 0.99\n",
            "- Recall: 0.97\n",
            "Matriz de Confusión en Test:\n",
            "[[1463   37]\n",
            " [ 116 4384]]\n",
            "Umbral óptimo para clasificación de spam: 0.000\n"
          ]
        },
        {
          "output_type": "display_data",
          "data": {
            "text/plain": [
              "<Figure size 640x480 with 1 Axes>"
            ],
            "image/png": "[encoded data removed]"
          },
          "metadata": {}
        }
      ]
    },
    {
      "cell_type": "code",
      "source": [
        "# Convertir y_test y y_test_pred a arrays de NumPy\n",
        "y_test = np.array(y_test)\n",
        "y_test_pred = np.array(y_test_pred)\n",
        "\n",
        "# Calcular la distribución de clases\n",
        "print(\"Distribución de y_test:\")\n",
        "print(\"Spam (1):\", sum(y_test == 1))\n",
        "print(\"Ham (0):\", sum(y_test == 0))\n",
        "\n",
        "print(\"Distribución de y_test_pred:\")\n",
        "print(\"Spam (1):\", sum(y_test_pred == 1))\n",
        "print(\"Ham (0):\", sum(y_test_pred == 0))"
      ],
      "metadata": {
        "colab": {
          "base_uri": "https://localhost:8080/"
        },
        "id": "QbvXKLY1V87d",
        "outputId": "60caf57c-e132-49a4-d12a-976f870509fd"
      },
      "execution_count": 14,
      "outputs": [
        {
          "output_type": "stream",
          "name": "stdout",
          "text": [
            "Distribución de y_test:\n",
            "Spam (1): 4500\n",
            "Ham (0): 1500\n",
            "Distribución de y_test_pred:\n",
            "Spam (1): 4421\n",
            "Ham (0): 1579\n"
          ]
        }
      ]
    },
    {
      "cell_type": "markdown",
      "source": [
        "\n",
        "\n",
        "*   Hay 4500 correos etiquetados como spam (1) y 1500 etiquetados como ham (0).\n",
        "*   El modelo clasificó 4422 correos como spam (1) y 1578 como ham (0)."
      ],
      "metadata": {
        "id": "YJNsqFtRTMDB"
      }
    },
    {
      "cell_type": "code",
      "source": [
        "# Clasificaciones Correctas e Incorrectas\n",
        "true_positives = np.where((y_test == 1) & (y_test_pred == 1))[0]\n",
        "false_positives = np.where((y_test == 0) & (y_test_pred == 1))[0]\n",
        "true_negatives = np.where((y_test == 0) & (y_test_pred == 0))[0]\n",
        "false_negatives = np.where((y_test == 1) & (y_test_pred == 0))[0]\n",
        "\n",
        "# Mostrar ejemplos de clasificación\n",
        "print(\"=== Ejemplos de Clasificación en Test ===\\n\")\n",
        "\n",
        "# Ejemplos de verdaderos positivos (Spam correctamente clasificado)\n",
        "if len(true_positives) > 0:\n",
        "    print(\"Spam Clasificado Correctamente (True Positives):\")\n",
        "    for id in true_positives[:3]:\n",
        "        print(f\"- Correo {id + 1}:\\n{mails_test[id][:300]}...\\n\")\n",
        "else:\n",
        "    print(\"No hay ejemplos de True Positives.\\n\")\n",
        "\n",
        "# Ejemplos de falsos positivos (Ham clasificado como Spam)\n",
        "if len(false_positives) > 0:\n",
        "    print(\"Ham Clasificado como Spam (False Positives):\")\n",
        "    for id in false_positives[:3]:\n",
        "        print(f\"- Correo {id + 1}:\\n{mails_test[id][:300]}...\\n\")\n",
        "else:\n",
        "    print(\"No hay ejemplos de False Positives.\\n\")\n",
        "\n",
        "# Ejemplos de verdaderos negativos (Ham correctamente clasificado)\n",
        "if len(true_negatives) > 0:\n",
        "    print(\"Ham Clasificado Correctamente (True Negatives):\")\n",
        "    for id in true_negatives[:3]:\n",
        "        print(f\"- Correo {id + 1}:\\n{mails_test[id][:300]}...\\n\")\n",
        "else:\n",
        "    print(\"No hay ejemplos de True Negatives.\\n\")\n",
        "\n",
        "# Ejemplos de falsos negativos (Spam clasificado como Ham)\n",
        "if len(false_negatives) > 0:\n",
        "    print(\"Spam Clasificado como Ham (False Negatives):\")\n",
        "    for id in false_negatives[:3]:\n",
        "        print(f\"- Correo {id + 1}:\\n{mails_test[id][:300]}...\\n\")\n",
        "else:\n",
        "    print(\"No hay ejemplos de False Negatives.\\n\")"
      ],
      "metadata": {
        "colab": {
          "base_uri": "https://localhost:8080/"
        },
        "id": "AwM98vUJVzUF",
        "outputId": "623442bf-237a-4e8f-d9d9-9bf0cc4700a7"
      },
      "execution_count": 15,
      "outputs": [
        {
          "output_type": "stream",
          "name": "stdout",
          "text": [
            "=== Ejemplos de Clasificación en Test ===\n",
            "\n",
            "Spam Clasificado Correctamente (True Positives):\n",
            "- Correo 1:\n",
            "Subject: auslaenderpolitik\r\n",
            "lese selbst :\r\n",
            "http : / / www . mjoelnirsseite . de / 2100 . htm...\n",
            "\n",
            "- Correo 2:\n",
            "Subject: can you believe this ?\r\n",
            "you can make the difference\r\n",
            "at around 5 a . m . , helicopters circled our village . later , four men wearing\r\n",
            "sudanese military uniforms who had arrived on camels , horses and by cars\r\n",
            "entered our house and took some of our properties , then set the house on\r\n",
            "fire ....\n",
            "\n",
            "- Correo 3:\n",
            "Subject: 5 oo - 35 oo per day returning phone calls v\r\n",
            "hello ,\r\n",
            "baptiste atrophy compendia\r\n",
            "emission monsoon road\r\n",
            "hello ,\r\n",
            "would you like to generate at least $ 1500 to $ 3500 per day just for returning 2 minute phone calls without any selling or explaining ?\r\n",
            "this is not mlm and there are no board...\n",
            "\n",
            "Ham Clasificado como Spam (False Positives):\n",
            "- Correo 28:\n",
            "Subject: ets : the next generation\r\n",
            "click here for more information about \" ets : the next generation \" . . .\r\n",
            "...\n",
            "\n",
            "- Correo 39:\n",
            "Subject: fw : on the first day\r\n",
            "subject : on the first day !\r\n",
            ">\r\n",
            "> on the first day god created the cow .\r\n",
            ">\r\n",
            "> god said , \" you must go to the field with the farmer all day long and\r\n",
            "> suffer\r\n",
            "> under the sun , have calves and give milk to support the farmer i will\r\n",
            "> give\r\n",
            "> you a life span of six...\n",
            "\n",
            "- Correo 55:\n",
            "Subject: red rock docket #\r\n",
            "the docket number for the red rock expansion application is cpol - 115 , in case any of your shippers ask ....\n",
            "\n",
            "Ham Clasificado Correctamente (True Negatives):\n",
            "- Correo 4:\n",
            "Subject: free trial : europe and asia energy information !\r\n",
            "dear colleague :\r\n",
            "energy argus has just launched two new bi - monthly publications that focus on the european and asian energy markets - argus power europe and argus asia gas & power .\r\n",
            "and - we ' d like to offer you a free no - obligation ...\n",
            "\n",
            "- Correo 5:\n",
            "Subject: global accounting promotions\r\n",
            "please join me and the global accounting leadership team in congratulating\r\n",
            "the following individuals on their promotions to :\r\n",
            "to managing director\r\n",
            "sally beck ( ewn )\r\n",
            "fernley dyson ( eel )\r\n",
            "to vice president\r\n",
            "beth apollo ( enw )\r\n",
            "janine juggins ( eel tax )\r\n",
            "...\n",
            "\n",
            "- Correo 6:\n",
            "Subject: united way 2001 - team ets\r\n",
            "this year ' s enron united way campaign kicked off last week with leadership giving . the company - wide campaign along with week of caring kicks off on august 6 . ets ' day of caring is on august 9 at the harboch ripley center in southeast houston . please conta...\n",
            "\n",
            "Spam Clasificado como Ham (False Negatives):\n",
            "- Correo 14:\n",
            "Subject: stacee , new faces have more authority than accustomed ones .\r\n",
            "the passing of an unjust law is the suicide of authority\r\n",
            "obedience to lawful authority is the foundation of manly character .\r\n",
            "...\n",
            "\n",
            "- Correo 62:\n",
            "Subject: damon fwd ; vi\r\n",
            "himself by a shoulder against the woodwork or\r\n",
            "one elbow crooked about the railing , and made a shift to wash his face and\r\n",
            "neck and hands ; a cold , an insufficient , and , if the train is moving\r\n",
            "rapidly , a somewhat\r\n",
            "i ' ll use the king , said the boy , and pulled his\r\n",
            "pr...\n",
            "\n",
            "- Correo 80:\n",
            "Subject: re : application update\r\n",
            "order number : 692720\r\n",
            "order date : wed , 19 jan 2005 18 : 31 : 56 - 0600\r\n",
            "we appreciate your patience in the processing of your\r\n",
            "m o rrtgage request .\r\n",
            "we have prepared 3 . 4 % deal for you at this time . verify\r\n",
            "your information so we can proceed as planned .\r\n",
            "htt...\n",
            "\n"
          ]
        }
      ]
    },
    {
      "cell_type": "markdown",
      "source": [
        "**INFORME:**\n",
        "\n",
        "En esta práctica he implementado un filtro de spam basado en el clasificador de Bayes Ingenuo utilizando unos datos proporcionados. El objetivo principal es desarrollar y evaluar el rendimiento de modelos entrenados con diferentes configuraciones (clasificadores Multinomial y Bernoulli y características basadas en unigramas y bigramas). A continuación vamos a analizar los resultados obtenidos:"
      ],
      "metadata": {
        "id": "xDGo_IgrSIDf"
      }
    },
    {
      "cell_type": "markdown",
      "source": [
        "Se probaron cuatro configuraciones principales:\n",
        "1.   Bernoulli con unigrama.\n",
        "2.   Multinomial con unigrama.\n",
        "3.   Bernoulli con bigrama.\n",
        "4.   Multinomial con bigrama.\n",
        "\n",
        "Para cada configuración se ha obtenido el alpha (valor del parámetro suavizado de Laplace) dentro de un rango de 0.1 y 1.0. El motivo por el que elegí este rango, fue porque al hacer numerosas pruebas, observé que los números por encima del 1 hacía que disminuyese el porcentaje. Es por eso que elegí valores más pequeños para probar.\n",
        "\n",
        "Finalmente seleccioné la configuración con el mayor F1-score en los datos de validación (y guardé su respectivo alpha)."
      ],
      "metadata": {
        "id": "EciUGYlVZ3NW"
      }
    },
    {
      "cell_type": "markdown",
      "source": [
        "\n",
        "*   **Métricas en los Datos de Validación**\n",
        "\n",
        "    Para cada configuración, los F1-scores obtenidos en los datos de validación mostraron las siguientes conclusiones:\n",
        "\n",
        "    - **Unigramas**: obtienen las características individuales de las palabras. Sin embargo, no consiguen tener el contexto completo en expresiones más complejas.\n",
        "    - **Bigramas**: aunque pueden implicar un aumento en la dimensionalidad del modelo por tener que incluir combinacioens de palabras consecutivas, se obtuvieron mejores resultados ya que proporcionó un contexto adicional para reducir los falsos positivos y falsos negativos.\n",
        "\n",
        "*   **Selección de la Mejor Configuración**\n",
        "\n",
        "    De las cuatro configuraciones, la mejor fue Multinomial con bigrama, con un valor óptimo de alpha = 0.1. Esto se debe a que esta configuración consiguió el mejor balance entre precisión y recall.\n",
        "\n",
        "*   **Métricas en los Datos de Test**\n",
        "    Tras tener ya entrenados los datos, pasamos a evaluar las métricas con los datos de test.\n",
        "\n",
        "    F1-score: 98%. El modelo es muy efectivo tanto en detectar spam como en mantener un número de error bajo de colocar spam en los correos ham.\n",
        "\n",
        "    Precisión: 99%. El modelo comete muy pocos errores al clasificar correos ham como spam (falsos positivos).\n",
        "\n",
        "    Recall: 98%. El modelo comete pocos errores al clasificar correos spam como ham (falsos negativos).\n",
        "\n",
        "    Es preferible que haya un correo de spam como ham, a que haya un correo de ham en spam.\n",
        "    \n",
        "    Estos resultados muestran un buen rendimiento del modelo en cuanto a:\n",
        "    - Precisión: el modelo identifica bastante bien los correos spam sin clasificar erróneamente demasiados correos ham como spam.\n",
        "    - Recall: el modelo detecta la mayoría de los correos spam con un bajo número de falsos negativos."
      ],
      "metadata": {
        "id": "LcgRD3KdawAa"
      }
    }
  ]
}