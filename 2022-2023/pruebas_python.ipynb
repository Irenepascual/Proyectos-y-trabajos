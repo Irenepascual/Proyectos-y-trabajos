{
 "cells": [
  {
   "cell_type": "markdown",
   "id": "017878a9-74b5-4f8a-8832-184eee00c0a7",
   "metadata": {},
   "source": [
    "$$\n",
    "\\def\\CC{\\mathbb C}\n",
    "\\def\\QQ{\\mathbb Q}\n",
    "\\def\\RR{\\mathbb R}\n",
    "\\def\\ZZ{\\mathbb Z}\n",
    "\\def\\NN{\\mathbb N}\n",
    "\\def\\KK{\\mathbb K}\n",
    "$$\n",
    "# PYTHON"
   ]
  },
  {
   "cell_type": "markdown",
   "id": "f5883dc3-f1bd-41de-bca7-65bdbc8c3805",
   "metadata": {},
   "source": [
    "----\n",
    "Mediante el procedimiento de cálculo aproximado encuentra el valor y vector propio dominantes para cada una de las matrices \n",
    "$A = \\left(\\begin{matrix} 4& 1& 3\\\\0& 2& 0\\\\1& 1& 2\\end{matrix}\\right)$, \n",
    "$B = \\left(\\begin{matrix} 12& 6& -6\\\\2& 0& -2\\\\ -6& 6& 12\\end{matrix}\\right)$.\n",
    "Toma como vector inicial el $(1, 0, 0)$ y aplica el método hasta la precisión de dos cifras decimales."
   ]
  },
  {
   "cell_type": "code",
   "execution_count": 117,
   "id": "d981aaef-82ce-4d51-ab9e-5f61685817fe",
   "metadata": {},
   "outputs": [
    {
     "data": {
      "text/html": [
       "<html>\\[\\newcommand{\\Bold}[1]{\\mathbf{#1}}\\left(\\begin{array}{rrr}\n",
       "4 & 1 & 3 \\\\\n",
       "0 & 2 & 0 \\\\\n",
       "1 & 1 & 2\n",
       "\\end{array}\\right)\\]</html>"
      ],
      "text/latex": [
       "$$\\newcommand{\\Bold}[1]{\\mathbf{#1}}\\left(\\begin{array}{rrr}\n",
       "4 & 1 & 3 \\\\\n",
       "0 & 2 & 0 \\\\\n",
       "1 & 1 & 2\n",
       "\\end{array}\\right)$$"
      ],
      "text/plain": [
       "[4 1 3]\n",
       "[0 2 0]\n",
       "[1 1 2]"
      ]
     },
     "metadata": {},
     "output_type": "display_data"
    },
    {
     "data": {
      "text/html": [
       "<html>\\[\\newcommand{\\Bold}[1]{\\mathbf{#1}}\\left(1,\\,0,\\,0\\right)\\]</html>"
      ],
      "text/latex": [
       "$$\\newcommand{\\Bold}[1]{\\mathbf{#1}}\\left(1,\\,0,\\,0\\right)$$"
      ],
      "text/plain": [
       "(1, 0, 0)"
      ]
     },
     "metadata": {},
     "output_type": "display_data"
    }
   ],
   "source": [
    "reset()\n",
    "A=matrix(QQ,3,[4,1,3,0,2,0,1,1,2])\n",
    "a1=vector([4,1,3])\n",
    "a2=vector([0,2,0])\n",
    "a3=vector([1,1,2])\n",
    "\n",
    "V=vector([1,0,0])\n",
    "show(A)\n",
    "show(V)"
   ]
  },
  {
   "cell_type": "code",
   "execution_count": 118,
   "id": "62f488e5-9108-430b-8e80-60c55c82652f",
   "metadata": {},
   "outputs": [],
   "source": [
    "while (i<5):\n",
    "    r=a1*V\n",
    "    s=a2*V\n",
    "    t=a3*V\n",
    "    V=vector([r,s,t])\n",
    "    \n",
    "    if (r>=s and r>=t):\n",
    "        Y=V/r\n",
    "    else:\n",
    "        if (s>=r and s>=t):\n",
    "            Y=V/s\n",
    "        else:\n",
    "            Y=V/t\n",
    "    i=i+1"
   ]
  },
  {
   "cell_type": "code",
   "execution_count": 119,
   "id": "094f3a21-6dcf-4162-bfec-6c322c840735",
   "metadata": {},
   "outputs": [
    {
     "data": {
      "text/html": [
       "<html>\\[\\newcommand{\\Bold}[1]{\\mathbf{#1}}\\left(2344.00000000000,\\,0.000000000000000,\\,781.000000000000\\right)\\]</html>"
      ],
      "text/latex": [
       "$$\\newcommand{\\Bold}[1]{\\mathbf{#1}}\\left(2344.00000000000,\\,0.000000000000000,\\,781.000000000000\\right)$$"
      ],
      "text/plain": [
       "(2344.00000000000, 0.000000000000000, 781.000000000000)"
      ]
     },
     "metadata": {},
     "output_type": "display_data"
    },
    {
     "data": {
      "text/html": [
       "<html>\\[\\newcommand{\\Bold}[1]{\\mathbf{#1}}\\left(1.00000000000000,\\,0.000000000000000,\\,0.333191126279863\\right)\\]</html>"
      ],
      "text/latex": [
       "$$\\newcommand{\\Bold}[1]{\\mathbf{#1}}\\left(1.00000000000000,\\,0.000000000000000,\\,0.333191126279863\\right)$$"
      ],
      "text/plain": [
       "(1.00000000000000, 0.000000000000000, 0.333191126279863)"
      ]
     },
     "metadata": {},
     "output_type": "display_data"
    }
   ],
   "source": [
    "show(V.n())\n",
    "show(Y.n())"
   ]
  },
  {
   "cell_type": "code",
   "execution_count": 114,
   "id": "91a29bbb-c141-442e-b33e-71342c726814",
   "metadata": {},
   "outputs": [
    {
     "data": {
      "text/html": [
       "<html>\\[\\newcommand{\\Bold}[1]{\\mathbf{#1}}\\left(\\begin{array}{rrr}\n",
       "12 & 6 & -6 \\\\\n",
       "2 & 0 & -2 \\\\\n",
       "-6 & 6 & 12\n",
       "\\end{array}\\right)\\]</html>"
      ],
      "text/latex": [
       "$$\\newcommand{\\Bold}[1]{\\mathbf{#1}}\\left(\\begin{array}{rrr}\n",
       "12 & 6 & -6 \\\\\n",
       "2 & 0 & -2 \\\\\n",
       "-6 & 6 & 12\n",
       "\\end{array}\\right)$$"
      ],
      "text/plain": [
       "[12  6 -6]\n",
       "[ 2  0 -2]\n",
       "[-6  6 12]"
      ]
     },
     "metadata": {},
     "output_type": "display_data"
    },
    {
     "data": {
      "text/html": [
       "<html>\\[\\newcommand{\\Bold}[1]{\\mathbf{#1}}\\left(1,\\,0,\\,0\\right)\\]</html>"
      ],
      "text/latex": [
       "$$\\newcommand{\\Bold}[1]{\\mathbf{#1}}\\left(1,\\,0,\\,0\\right)$$"
      ],
      "text/plain": [
       "(1, 0, 0)"
      ]
     },
     "metadata": {},
     "output_type": "display_data"
    }
   ],
   "source": [
    "reset()\n",
    "B=matrix(QQ,3,[12,6,-6,2,0,-2,-6,6,12])\n",
    "b1=vector([12,6,-6])\n",
    "b2=vector([2,0,-2])\n",
    "b3=vector([-6,6,12])\n",
    "\n",
    "V=vector([1,0,0])\n",
    "show(B)\n",
    "show(V)"
   ]
  },
  {
   "cell_type": "code",
   "execution_count": 115,
   "id": "497dac6e-32fc-456d-ae80-0bf5e9edc6c5",
   "metadata": {},
   "outputs": [],
   "source": [
    "\n",
    "V=vector([1,0,0])\n",
    "\n",
    "while (i<5):\n",
    "    u=b1*V\n",
    "    w=b2*V\n",
    "    z=b3*V\n",
    "    V=vector([u,w,z])\n",
    "    \n",
    "    if (u>=w and u>=z):\n",
    "        Y=V/u\n",
    "    else:\n",
    "        if (w>=u and w>=z):\n",
    "            Y=V/w\n",
    "        else:\n",
    "            Y=V/z\n",
    "    i=i+1"
   ]
  },
  {
   "cell_type": "code",
   "execution_count": 116,
   "id": "9722f8e3-e650-47d2-ba8f-8f55a82ca91e",
   "metadata": {},
   "outputs": [
    {
     "data": {
      "text/html": [
       "<html>\\[\\newcommand{\\Bold}[1]{\\mathbf{#1}}\\left(1.05235200000000 \\times 10^{6},\\,209952.000000000,\\,-837216.000000000\\right)\\]</html>"
      ],
      "text/latex": [
       "$$\\newcommand{\\Bold}[1]{\\mathbf{#1}}\\left(1.05235200000000 \\times 10^{6},\\,209952.000000000,\\,-837216.000000000\\right)$$"
      ],
      "text/plain": [
       "(1.05235200000000e6, 209952.000000000, -837216.000000000)"
      ]
     },
     "metadata": {},
     "output_type": "display_data"
    },
    {
     "data": {
      "text/html": [
       "<html>\\[\\newcommand{\\Bold}[1]{\\mathbf{#1}}\\left(1.00000000000000,\\,0.199507389162562,\\,-0.795566502463054\\right)\\]</html>"
      ],
      "text/latex": [
       "$$\\newcommand{\\Bold}[1]{\\mathbf{#1}}\\left(1.00000000000000,\\,0.199507389162562,\\,-0.795566502463054\\right)$$"
      ],
      "text/plain": [
       "(1.00000000000000, 0.199507389162562, -0.795566502463054)"
      ]
     },
     "metadata": {},
     "output_type": "display_data"
    }
   ],
   "source": [
    "show(V.n())\n",
    "show(Y.n())"
   ]
  },
  {
   "cell_type": "markdown",
   "id": "d4f45f19-cd9e-46f8-9493-d71e1b211f32",
   "metadata": {},
   "source": [
    "Punto (1,0): 0 = A*(1)^2 + B*(1) + C\n",
    "Punto (2,-1): -1 = A*(2)^2 + B*(2) + C\n",
    "Punto (3,0): 0 = A*(3)^2 + B*(3) + C\n",
    "Punto (4,2): 2 = A*(4)^2 + B*(4) + C"
   ]
  },
  {
   "cell_type": "code",
   "execution_count": 15,
   "id": "696ed1db-fcdd-41ca-836d-477ac867bb8d",
   "metadata": {},
   "outputs": [
    {
     "data": {
      "text/html": [
       "<html>\\[\\newcommand{\\Bold}[1]{\\mathbf{#1}}\\left(\\begin{array}{rrr}\n",
       "1 & 1 & 1 \\\\\n",
       "4 & 2 & 1 \\\\\n",
       "9 & 3 & 1 \\\\\n",
       "16 & 4 & 1\n",
       "\\end{array}\\right)\\]</html>"
      ],
      "text/latex": [
       "$$\\newcommand{\\Bold}[1]{\\mathbf{#1}}\\left(\\begin{array}{rrr}\n",
       "1 & 1 & 1 \\\\\n",
       "4 & 2 & 1 \\\\\n",
       "9 & 3 & 1 \\\\\n",
       "16 & 4 & 1\n",
       "\\end{array}\\right)$$"
      ],
      "text/plain": [
       "[ 1  1  1]\n",
       "[ 4  2  1]\n",
       "[ 9  3  1]\n",
       "[16  4  1]"
      ]
     },
     "metadata": {},
     "output_type": "display_data"
    }
   ],
   "source": [
    "A=Matrix(QQ,4,3,[1, 1, 1, 4, 2, 1, 9, 3, 1, 16, 4, 1])\n",
    "show(A)"
   ]
  },
  {
   "cell_type": "code",
   "execution_count": 16,
   "id": "3d7ec0ea-b6d0-4ec8-a264-3e3bc844bd07",
   "metadata": {},
   "outputs": [
    {
     "data": {
      "text/plain": [
       "3"
      ]
     },
     "execution_count": 16,
     "metadata": {},
     "output_type": "execute_result"
    }
   ],
   "source": [
    "A.rank()"
   ]
  },
  {
   "cell_type": "code",
   "execution_count": 17,
   "id": "72a10abe-0117-4812-9cb9-6738adf0a1cd",
   "metadata": {},
   "outputs": [
    {
     "data": {
      "text/plain": [
       "(0, -1, 0, 2)"
      ]
     },
     "execution_count": 17,
     "metadata": {},
     "output_type": "execute_result"
    }
   ],
   "source": [
    "v=vector([0,-1,0,2]);v"
   ]
  },
  {
   "cell_type": "code",
   "execution_count": 151,
   "id": "a767aec1-feaa-448d-b0bf-2ac44ff0572f",
   "metadata": {},
   "outputs": [
    {
     "data": {
      "text/html": [
       "<html>\\[\\newcommand{\\Bold}[1]{\\mathbf{#1}}\\left(\\begin{array}{rrr|r}\n",
       "1 & 1 & 1 & 0 \\\\\n",
       "4 & 2 & 1 & -1 \\\\\n",
       "9 & 3 & 1 & 0 \\\\\n",
       "16 & 4 & 1 & 2\n",
       "\\end{array}\\right)\\]</html>"
      ],
      "text/latex": [
       "$$\\newcommand{\\Bold}[1]{\\mathbf{#1}}\\left(\\begin{array}{rrr|r}\n",
       "1 & 1 & 1 & 0 \\\\\n",
       "4 & 2 & 1 & -1 \\\\\n",
       "9 & 3 & 1 & 0 \\\\\n",
       "16 & 4 & 1 & 2\n",
       "\\end{array}\\right)$$"
      ],
      "text/plain": [
       "[ 1  1  1| 0]\n",
       "[ 4  2  1|-1]\n",
       "[ 9  3  1| 0]\n",
       "[16  4  1| 2]"
      ]
     },
     "metadata": {},
     "output_type": "display_data"
    }
   ],
   "source": [
    "B=A.augment(v,subdivide=True);show(B)"
   ]
  },
  {
   "cell_type": "raw",
   "id": "bd788d6b-3f5b-4c11-b1a0-f123b49feacd",
   "metadata": {},
   "source": [
    "1*A+1*B+1*C=0\n",
    "4*A+2*B+1*Z=-1\n",
    "9*A+3*B+1*C=0\n",
    "\n",
    "A=-B-C\n",
    "\n",
    "4*(-B-C)+2*B+1*Z=-1\n",
    "-2*B-3*C=-1\n",
    "B=(1-3*C)/2\n",
    "\n",
    "-9*(-B-C)+3*B+1*C=0\n",
    "-6*B-8*C=0\n",
    "\n",
    "-6*((1-3*C)/2)-8*C=0\n",
    "C=3\n",
    "\n",
    "B=-4\n",
    "\n",
    "A=1"
   ]
  },
  {
   "cell_type": "code",
   "execution_count": 32,
   "id": "c01b2acb-3f9e-4dbf-9e05-7cc56089fc73",
   "metadata": {},
   "outputs": [],
   "source": [
    "F(x)=x^2-4*x+3\n",
    "A=plot(F(x),(x,-2,5),figsize=7,ymax=10,ymin=-2,color='red')"
   ]
  },
  {
   "cell_type": "code",
   "execution_count": 33,
   "id": "9bf218a6-1cf3-4719-8209-7e0c170621b5",
   "metadata": {},
   "outputs": [
    {
     "data": {
      "image/png": "[encoded data removed]",
      "text/plain": [
       "Graphics object consisting of 5 graphics primitives"
      ]
     },
     "metadata": {},
     "output_type": "display_data"
    }
   ],
   "source": [
    "B=point((1,0),figsize=7)\n",
    "C=point((2,-1),figsize=7)\n",
    "D=point((3,0),figsize=7)\n",
    "E=point((4,2),figsize=7)\n",
    "\n",
    "show(A+B+C+D+E)"
   ]
  }
 ],
 "metadata": {
  "kernelspec": {
   "display_name": "SageMath 9.4",
   "language": "sage",
   "name": "sagemath"
  },
  "language_info": {
   "codemirror_mode": {
    "name": "ipython",
    "version": 3
   },
   "file_extension": ".py",
   "mimetype": "text/x-python",
   "name": "python",
   "nbconvert_exporter": "python",
   "pygments_lexer": "ipython3",
   "version": "3.9.5"
  }
 },
 "nbformat": 4,
 "nbformat_minor": 5
}
